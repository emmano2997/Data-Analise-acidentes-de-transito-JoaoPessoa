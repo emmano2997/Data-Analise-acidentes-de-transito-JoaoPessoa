{
 "cells": [
  {
   "cell_type": "markdown",
   "id": "d7c99c3c",
   "metadata": {},
   "source": [
    "<a href=\"CI\"><img src=\"http://www.ci.ufpb.br/ci/contents/imagens/site/logo-ci.jpeg\" width=\"125\" title=\"Logo CI\" /></a>\n",
    "\n",
    "# Análise de dados sobre acidentes de trânsito em João Pessoa - Paraíba \n",
    "Feito por: Emmanuel Aprigio Cavalvanti dos Santos "
   ]
  },
  {
   "cell_type": "code",
   "execution_count": null,
   "id": "7cc2ccbf",
   "metadata": {},
   "outputs": [
    {
     "name": "stdout",
     "output_type": "stream",
     "text": [
      "^C\n"
     ]
    }
   ],
   "source": [
    "# instalando a biblioteca geopandas com o conda\n",
    "!conda install geopandas -y\n",
    "!conda list geopandas"
   ]
  },
  {
   "cell_type": "code",
   "execution_count": null,
   "id": "9ea2bfc1",
   "metadata": {},
   "outputs": [],
   "source": [
    "# instalando a biblioteca matplotlib com o conda\n",
    "!conda install matplotlib -y\n",
    "!conda list matplotlib"
   ]
  },
  {
   "cell_type": "code",
   "execution_count": null,
   "id": "f423dca6",
   "metadata": {},
   "outputs": [],
   "source": [
    "# instalando a biblioteca descartes com o conda\n",
    "-c conda-forge descartes \n",
    "!conda list descartes"
   ]
  },
  {
   "cell_type": "code",
   "execution_count": null,
   "id": "f3df05ee",
   "metadata": {},
   "outputs": [],
   "source": [
    "# instalando a biblioteca shapely com o conda\n",
    "!conda install shapely -y\n",
    "!conda list shapely"
   ]
  },
  {
   "cell_type": "markdown",
   "id": "9f645a5d",
   "metadata": {},
   "source": [
    "# introdução\n",
    "Acidentes de trânsito causam 5 mortes no Brasil a cada 1 hora, informa um relatório divulgado pelo Conselho Federal de Medicina. Um balanço feito separadamente nos últimos anos, no qual aponta que os acidentes de trânsito deixaram mais de 1,6 milhão de feridos. Isso levou um aumento no uso do Serviço de Atendimento Móvel de Urgência (SAMU)\n",
    "O objetivo desta base de dados tem como intenção trabalhar com o SAMU para evitar acidentes de trânsito no município João Pessoa, Paraíba.\n",
    "\n",
    "\n",
    "Para isso iremos ultilazar as bibliotecas:\n",
    "*   [geopandas](https://geopandas.org/) Version 0.12.0 \n",
    "*   [matplotlib](https://matplotlib.org/stable/users/index.html) Version 3.5.1\n",
    "*   [pandas](https://pandas.pydata.org/)Version 1.4.2\n",
    "*   [descartes](https://pypi.org/project/descartes/)Version 1.1.0\n",
    "*   [shapely](https://shapely.readthedocs.io/en/stable/manual.html)Version 1.8.5.post1\n",
    "\n",
    "A coleta de dados foi realizada a partir dos dados disponíveis no site da [Polícia Rodoviária Federal](https://www.gov.br/prf/pt-br/acesso-a-informacao/dados-abertos/dados-abertos-acidentes) sobre acidentes em Rodovias Federais.\n",
    "Foram ultilizados os dados apenas para o Município de João Pessoa no estado da Paraíba referentes ao ano de 2021 até 2017.\n"
   ]
  },
  {
   "cell_type": "code",
   "execution_count": 1,
   "id": "351c6840",
   "metadata": {},
   "outputs": [],
   "source": [
    "#importar as bibliotecas\n",
    "import matplotlib.pyplot as plt\n",
    "import geopandas as gpd\n",
    "import pandas as pd\n",
    "import numpy as np\n"
   ]
  },
  {
   "cell_type": "markdown",
   "id": "19ef8aab",
   "metadata": {},
   "source": [
    "# Lendo os dados \n",
    "Leitura feita com geopandas, foram atribuida para a varivel nesse estilo: *data_anoRespectivo.\n",
    "\n",
    "Os dados foram ferificados para não conter informações duplicadas e valores NaN (vazios).\n",
    "\n",
    "Unificação dos arquivos feita com pandas para: dadosjoaopessoa.csv\n",
    "\n",
    "\n"
   ]
  },
  {
   "cell_type": "code",
   "execution_count": 2,
   "id": "0b6c33f0",
   "metadata": {},
   "outputs": [
    {
     "ename": "NameError",
     "evalue": "name 'gpd' is not defined",
     "output_type": "error",
     "traceback": [
      "\u001b[1;31m---------------------------------------------------------------------------\u001b[0m",
      "\u001b[1;31mNameError\u001b[0m                                 Traceback (most recent call last)",
      "Input \u001b[1;32mIn [2]\u001b[0m, in \u001b[0;36m<cell line: 2>\u001b[1;34m()\u001b[0m\n\u001b[0;32m      1\u001b[0m \u001b[38;5;66;03m#ler os dados separados com o geo pandas\u001b[39;00m\n\u001b[1;32m----> 2\u001b[0m data_2021 \u001b[38;5;241m=\u001b[39m \u001b[43mgpd\u001b[49m\u001b[38;5;241m.\u001b[39mread_file(\u001b[38;5;124m'\u001b[39m\u001b[38;5;124mdatatran2021.csv\u001b[39m\u001b[38;5;124m'\u001b[39m)\n\u001b[0;32m      3\u001b[0m data_2020 \u001b[38;5;241m=\u001b[39m gpd\u001b[38;5;241m.\u001b[39mread_file(\u001b[38;5;124m'\u001b[39m\u001b[38;5;124mdatatran2020.csv\u001b[39m\u001b[38;5;124m'\u001b[39m)\n\u001b[0;32m      4\u001b[0m data_2019 \u001b[38;5;241m=\u001b[39m gpd\u001b[38;5;241m.\u001b[39mread_file(\u001b[38;5;124m'\u001b[39m\u001b[38;5;124mdatatran2019.csv\u001b[39m\u001b[38;5;124m'\u001b[39m)\n",
      "\u001b[1;31mNameError\u001b[0m: name 'gpd' is not defined"
     ]
    }
   ],
   "source": [
    "#ler os dados separados com o geo pandas\n",
    "data_2021 = gpd.read_file('datatran2021.csv')\n",
    "data_2020 = gpd.read_file('datatran2020.csv')\n",
    "data_2019 = gpd.read_file('datatran2019.csv')\n",
    "data_2018 = gpd.read_file('datatran2018.csv')\n",
    "data_2017 = gpd.read_file('datatran2017.csv')"
   ]
  },
  {
   "cell_type": "code",
   "execution_count": 4,
   "id": "a74c1591",
   "metadata": {},
   "outputs": [],
   "source": [
    "#filtrar somente o municipio de joão pessoa \n",
    "#gdf_JP20XX é a variavel no qual guarda o GeoDataframe de joão pessoa ano respectivo\n",
    "\n",
    "gdf_jp2021 = data_2021[data_2021 ['municipio'] == 'JOAO PESSOA']\n",
    "gdf_jp2020 = data_2020[data_2020 ['municipio'] == 'JOAO PESSOA']\n",
    "gdf_jp2019 = data_2019[data_2019 ['municipio'] == 'JOAO PESSOA']\n",
    "gdf_jp2018 = data_2018[data_2018 ['municipio'] == 'JOAO PESSOA']\n",
    "gdf_jp2017 = data_2017[data_2017 ['municipio'] == 'JOAO PESSOA']"
   ]
  },
  {
   "cell_type": "code",
   "execution_count": 6,
   "id": "8a2e3e82",
   "metadata": {
    "scrolled": true
   },
   "outputs": [],
   "source": [
    "#salvando para csv\n",
    "#2021\n",
    "gdf_jp2021.to_csv('dadosjoaopessoa2021.csv',index = False)\n",
    "gdf_jp2021 = pd.read_csv('dadosjoaopessoa2021.csv')\n",
    "#2020\n",
    "gdf_jp2020.to_csv('dadosjoaopessoa2020.csv',index = False)\n",
    "gdf_jp2020 = pd.read_csv('dadosjoaopessoa2020.csv')\n",
    "#2019\n",
    "gdf_jp2019.to_csv('dadosjoaopessoa2019.csv',index = False)\n",
    "gdf_jp2019 = pd.read_csv('dadosjoaopessoa2019.csv')\n",
    "#2018\n",
    "gdf_jp2018.to_csv('dadosjoaopessoa2018.csv',index = False)\n",
    "gdf_jp2018 = pd.read_csv('dadosjoaopessoa2018.csv')\n",
    "#2017\n",
    "gdf_jp2017.to_csv('dadosjoaopessoa2017.csv',index = False)\n",
    "gdf_jp2017 = pd.read_csv('dadosjoaopessoa2017.csv')\n"
   ]
  },
  {
   "cell_type": "code",
   "execution_count": 2,
   "id": "79bbdb52",
   "metadata": {},
   "outputs": [],
   "source": [
    "# unificando od dados para apenas um único arquivo.csv\n",
    "data_joaopessoa = pd.read_csv('dadosjoaopessoa.csv')"
   ]
  },
  {
   "cell_type": "code",
   "execution_count": 12,
   "id": "b8bc2394",
   "metadata": {},
   "outputs": [
    {
     "data": {
      "text/plain": [
       "False    1603\n",
       "Name: id, dtype: int64"
      ]
     },
     "execution_count": 12,
     "metadata": {},
     "output_type": "execute_result"
    }
   ],
   "source": [
    "#verificar se ha presença de duplicatas para filtrar esses resultados.\n",
    "data_joaopessoa['id'].duplicated().value_counts()\n",
    "#não Existem duplicatas que precisam ser tratadas"
   ]
  },
  {
   "cell_type": "code",
   "execution_count": 14,
   "id": "8b4fa5bf",
   "metadata": {},
   "outputs": [
    {
     "data": {
      "text/plain": [
       "Index(['id', 'data_inversa', 'dia_semana', 'horario', 'uf', 'br', 'km',\n",
       "       'municipio', 'causa_acidente', 'tipo_acidente',\n",
       "       'classificacao_acidente', 'fase_dia', 'sentido_via',\n",
       "       'condicao_metereologica', 'tipo_pista', 'tracado_via', 'uso_solo',\n",
       "       'pessoas', 'mortos', 'feridos_leves', 'feridos_graves', 'ilesos',\n",
       "       'ignorados', 'feridos', 'veiculos', 'latitude', 'longitude', 'regional',\n",
       "       'delegacia', 'uop', 'geometry'],\n",
       "      dtype='object')"
      ]
     },
     "execution_count": 14,
     "metadata": {},
     "output_type": "execute_result"
    }
   ],
   "source": [
    "#mostrar as colunas da base de dados\n",
    "data_joaopessoa.columns\n"
   ]
  },
  {
   "cell_type": "markdown",
   "id": "84fe0b5a",
   "metadata": {},
   "source": [
    "# Quais os principais motivos para óbito em  acidente de carro em João Pessoa?\n"
   ]
  },
  {
   "cell_type": "markdown",
   "id": "dbc9d2cc",
   "metadata": {},
   "source": [
    "# Quais as causas mais comuns de acidentes de trânsito\n",
    "Quais as causas mais comuns de acidentes?\n",
    "gráfico de pizza ou barra\n"
   ]
  },
  {
   "cell_type": "code",
   "execution_count": null,
   "id": "6d04ee97",
   "metadata": {},
   "outputs": [],
   "source": [
    "#color am - #fde910 degrade linear para complementar #4682b4"
   ]
  },
  {
   "cell_type": "markdown",
   "id": "7cba9c7f",
   "metadata": {},
   "source": [
    "# Quais os tipos mais comuns de acidentes de trânsito\n",
    "Quais os tipos mais comuns de acidentes?\n",
    "gráfico de pizza ou barra"
   ]
  },
  {
   "cell_type": "code",
   "execution_count": 1,
   "id": "80fa69b2",
   "metadata": {},
   "outputs": [
    {
     "ename": "NameError",
     "evalue": "name 'plt' is not defined",
     "output_type": "error",
     "traceback": [
      "\u001b[1;31m---------------------------------------------------------------------------\u001b[0m",
      "\u001b[1;31mNameError\u001b[0m                                 Traceback (most recent call last)",
      "Input \u001b[1;32mIn [1]\u001b[0m, in \u001b[0;36m<cell line: 1>\u001b[1;34m()\u001b[0m\n\u001b[1;32m----> 1\u001b[0m fig1, ax1 \u001b[38;5;241m=\u001b[39m \u001b[43mplt\u001b[49m\u001b[38;5;241m.\u001b[39msubplots(figsize\u001b[38;5;241m=\u001b[39m(\u001b[38;5;241m10\u001b[39m, \u001b[38;5;241m10\u001b[39m))\n\u001b[0;32m      3\u001b[0m c \u001b[38;5;241m=\u001b[39m [\u001b[38;5;124m'\u001b[39m\u001b[38;5;124m#fde910\u001b[39m\u001b[38;5;124m'\u001b[39m, \u001b[38;5;124m'\u001b[39m\u001b[38;5;124m#ede854\u001b[39m\u001b[38;5;124m'\u001b[39m, \u001b[38;5;124m'\u001b[39m\u001b[38;5;124m#dae87b\u001b[39m\u001b[38;5;124m'\u001b[39m, \u001b[38;5;124m'\u001b[39m\u001b[38;5;124m#c4e89e\u001b[39m\u001b[38;5;124m'\u001b[39m,\u001b[38;5;124m'\u001b[39m\u001b[38;5;124m#a6e7bf\u001b[39m\u001b[38;5;124m'\u001b[39m,\u001b[38;5;124m'\u001b[39m\u001b[38;5;124m#7ce7df\u001b[39m\u001b[38;5;124m'\u001b[39m,\u001b[38;5;124m'\u001b[39m\u001b[38;5;124m#0ee7ff\u001b[39m\u001b[38;5;124m'\u001b[39m]\n\u001b[0;32m      5\u001b[0m ax1\u001b[38;5;241m.\u001b[39maxis(\u001b[38;5;124m'\u001b[39m\u001b[38;5;124mequal\u001b[39m\u001b[38;5;124m'\u001b[39m)\n",
      "\u001b[1;31mNameError\u001b[0m: name 'plt' is not defined"
     ]
    }
   ],
   "source": [
    "\n",
    "fig1, ax1 = plt.subplots(figsize=(10, 10))\n",
    "\n",
    "c = ['#fde910', '#ede854', '#dae87b', '#c4e89e','#a6e7bf','#7ce7df','#0ee7ff']\n",
    "\n",
    "ax1.axis('equal')\n",
    "\n",
    "plt.show()"
   ]
  },
  {
   "cell_type": "code",
   "execution_count": null,
   "id": "2d16a7d3",
   "metadata": {},
   "outputs": [],
   "source": []
  },
  {
   "cell_type": "code",
   "execution_count": null,
   "id": "4149e162",
   "metadata": {},
   "outputs": [],
   "source": [
    "# importar os objetos geométricos da biblioteca shapely\n",
    "from shapely.geometry import Point, LineString, Polygon"
   ]
  },
  {
   "cell_type": "code",
   "execution_count": null,
   "id": "2f459205",
   "metadata": {},
   "outputs": [],
   "source": [
    "#criar uma geometria do tipo ponto \n",
    "ponto = Point(5,10)"
   ]
  },
  {
   "cell_type": "code",
   "execution_count": null,
   "id": "74333e2f",
   "metadata": {},
   "outputs": [],
   "source": [
    "# ultilizando a função coords\n",
    "list (ponto.coords)"
   ]
  }
 ],
 "metadata": {
  "kernelspec": {
   "display_name": "Python 3 (ipykernel)",
   "language": "python",
   "name": "python3"
  },
  "language_info": {
   "codemirror_mode": {
    "name": "ipython",
    "version": 3
   },
   "file_extension": ".py",
   "mimetype": "text/x-python",
   "name": "python",
   "nbconvert_exporter": "python",
   "pygments_lexer": "ipython3",
   "version": "3.9.12"
  }
 },
 "nbformat": 4,
 "nbformat_minor": 5
}
